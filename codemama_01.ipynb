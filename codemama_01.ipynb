{
  "nbformat": 4,
  "nbformat_minor": 0,
  "metadata": {
    "colab": {
      "provenance": [],
      "authorship_tag": "ABX9TyMWRDwkYyLPkZo3i4LVM/92",
      "include_colab_link": true
    },
    "kernelspec": {
      "name": "python3",
      "display_name": "Python 3"
    },
    "language_info": {
      "name": "python"
    }
  },
  "cells": [
    {
      "cell_type": "markdown",
      "metadata": {
        "id": "view-in-github",
        "colab_type": "text"
      },
      "source": [
        "<a href=\"https://colab.research.google.com/github/Niha-ha/Codemama_Solution_01/blob/main/codemama_01.ipynb\" target=\"_parent\"><img src=\"https://colab.research.google.com/assets/colab-badge.svg\" alt=\"Open In Colab\"/></a>"
      ]
    },
    {
      "cell_type": "code",
      "execution_count": 5,
      "metadata": {
        "colab": {
          "base_uri": "https://localhost:8080/"
        },
        "id": "boUpY9rV9a33",
        "outputId": "c414f2ae-f8a4-495d-ac7c-7e88197d24d3"
      },
      "outputs": [
        {
          "output_type": "stream",
          "name": "stdout",
          "text": [
            "hello!!\n",
            "hello\n"
          ]
        }
      ],
      "source": [
        "def remove_special_characters(s):\n",
        "    special_chars =\".!@#$%^&  *()/\"\n",
        "\n",
        "    result = \"\"\n",
        "    for char in s:\n",
        "        if char not in special_chars:\n",
        "            result += char\n",
        "    return result\n",
        "\n",
        "s = input()\n",
        "print(remove_special_characters(s))"
      ]
    }
  ]
}